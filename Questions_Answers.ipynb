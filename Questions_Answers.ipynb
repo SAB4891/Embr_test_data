{
 "cells": [
  {
   "cell_type": "markdown",
   "id": "432564ee",
   "metadata": {},
   "source": [
    "###### Importing Python Librairies"
   ]
  },
  {
   "cell_type": "code",
   "execution_count": 1,
   "id": "3fb72e7f",
   "metadata": {},
   "outputs": [],
   "source": [
    "import numpy as np \n",
    "import pandas as pd \n",
    "import matplotlib.pyplot as plt\n",
    "import seaborn as sns\n",
    "import datetime\n",
    "from sklearn.utils import resample\n",
    "from scipy import stats\n",
    "import scipy.stats as stats\n",
    "import warnings\n",
    "warnings.filterwarnings('ignore')"
   ]
  },
  {
   "cell_type": "markdown",
   "id": "3318f45b",
   "metadata": {},
   "source": [
    "***"
   ]
  },
  {
   "cell_type": "markdown",
   "id": "79539491",
   "metadata": {},
   "source": [
    "Read the appropriate dataframes to answer subsequent questions "
   ]
  },
  {
   "cell_type": "code",
   "execution_count": 2,
   "id": "10ccfb27",
   "metadata": {},
   "outputs": [],
   "source": [
    "merged_df = pd.read_csv('merged_df.csv')\n",
    "final_df = pd.read_csv('finaldf.csv')"
   ]
  },
  {
   "cell_type": "code",
   "execution_count": 3,
   "id": "f6949704",
   "metadata": {},
   "outputs": [],
   "source": [
    "# changing the apointment date type to the correct datetime type \n",
    "\n",
    "merged_df['appointment date']= pd.to_datetime(merged_df['appointment date'])"
   ]
  },
  {
   "cell_type": "code",
   "execution_count": 4,
   "id": "f0556772",
   "metadata": {},
   "outputs": [],
   "source": [
    "# changing the date columns type to the correct datetime type \n",
    "\n",
    "final_df['call date']= pd.to_datetime(final_df['call date'])\n",
    "final_df['first_appointment_date']= pd.to_datetime(final_df['first_appointment_date'])\n",
    "final_df['last_appointment_date']= pd.to_datetime(final_df['last_appointment_date'])"
   ]
  },
  {
   "cell_type": "markdown",
   "id": "e96328b4",
   "metadata": {},
   "source": [
    "### QUESTIONS"
   ]
  },
  {
   "cell_type": "markdown",
   "id": "bb35290c",
   "metadata": {},
   "source": [
    "##### Question 1: what percentages of \"seen\" (i.e. completed) appointments were in March for minors seen by psychatrists?"
   ]
  },
  {
   "cell_type": "markdown",
   "id": "5250a470",
   "metadata": {},
   "source": [
    "The answer to this question lies in the raw merged_df dataframe between triage data and appointment data, when a left join was conducted on the appointment data with the triage dataframe."
   ]
  },
  {
   "cell_type": "code",
   "execution_count": 5,
   "id": "9a2b9828",
   "metadata": {},
   "outputs": [
    {
     "data": {
      "text/html": [
       "<div>\n",
       "<style scoped>\n",
       "    .dataframe tbody tr th:only-of-type {\n",
       "        vertical-align: middle;\n",
       "    }\n",
       "\n",
       "    .dataframe tbody tr th {\n",
       "        vertical-align: top;\n",
       "    }\n",
       "\n",
       "    .dataframe thead th {\n",
       "        text-align: right;\n",
       "    }\n",
       "</style>\n",
       "<table border=\"1\" class=\"dataframe\">\n",
       "  <thead>\n",
       "    <tr style=\"text-align: right;\">\n",
       "      <th></th>\n",
       "      <th>full name</th>\n",
       "      <th>name</th>\n",
       "      <th>surname</th>\n",
       "      <th>age</th>\n",
       "      <th>gender</th>\n",
       "      <th>call date</th>\n",
       "      <th>services awerness via</th>\n",
       "      <th>appointment date</th>\n",
       "      <th>status</th>\n",
       "      <th>practitioner</th>\n",
       "      <th>phq9</th>\n",
       "    </tr>\n",
       "  </thead>\n",
       "  <tbody>\n",
       "    <tr>\n",
       "      <th>0</th>\n",
       "      <td>alexander scott</td>\n",
       "      <td>alexander</td>\n",
       "      <td>scott</td>\n",
       "      <td>44.0</td>\n",
       "      <td>male</td>\n",
       "      <td>2021-02-15</td>\n",
       "      <td>ngo</td>\n",
       "      <td>2021-03-10</td>\n",
       "      <td>attended</td>\n",
       "      <td>psychiatrist</td>\n",
       "      <td>21.0</td>\n",
       "    </tr>\n",
       "    <tr>\n",
       "      <th>1</th>\n",
       "      <td>alfie murray</td>\n",
       "      <td>alfie</td>\n",
       "      <td>murray</td>\n",
       "      <td>NaN</td>\n",
       "      <td>male</td>\n",
       "      <td>2021-02-15</td>\n",
       "      <td>twitter</td>\n",
       "      <td>2021-03-10</td>\n",
       "      <td>attended</td>\n",
       "      <td>psychiatrist</td>\n",
       "      <td>23.0</td>\n",
       "    </tr>\n",
       "    <tr>\n",
       "      <th>2</th>\n",
       "      <td>alfie murray</td>\n",
       "      <td>alfie</td>\n",
       "      <td>murray</td>\n",
       "      <td>NaN</td>\n",
       "      <td>male</td>\n",
       "      <td>2021-02-15</td>\n",
       "      <td>twitter</td>\n",
       "      <td>2021-03-22</td>\n",
       "      <td>attended</td>\n",
       "      <td>social worker</td>\n",
       "      <td>22.0</td>\n",
       "    </tr>\n",
       "    <tr>\n",
       "      <th>3</th>\n",
       "      <td>alice murray</td>\n",
       "      <td>alice</td>\n",
       "      <td>murray</td>\n",
       "      <td>NaN</td>\n",
       "      <td>female</td>\n",
       "      <td>2021-02-05</td>\n",
       "      <td>lifeline</td>\n",
       "      <td>2021-03-01</td>\n",
       "      <td>attended</td>\n",
       "      <td>nurse</td>\n",
       "      <td>NaN</td>\n",
       "    </tr>\n",
       "    <tr>\n",
       "      <th>4</th>\n",
       "      <td>alice murray</td>\n",
       "      <td>alice</td>\n",
       "      <td>murray</td>\n",
       "      <td>NaN</td>\n",
       "      <td>female</td>\n",
       "      <td>2021-02-05</td>\n",
       "      <td>lifeline</td>\n",
       "      <td>2021-03-28</td>\n",
       "      <td>attended</td>\n",
       "      <td>psychiatrist</td>\n",
       "      <td>23.0</td>\n",
       "    </tr>\n",
       "    <tr>\n",
       "      <th>...</th>\n",
       "      <td>...</td>\n",
       "      <td>...</td>\n",
       "      <td>...</td>\n",
       "      <td>...</td>\n",
       "      <td>...</td>\n",
       "      <td>...</td>\n",
       "      <td>...</td>\n",
       "      <td>...</td>\n",
       "      <td>...</td>\n",
       "      <td>...</td>\n",
       "      <td>...</td>\n",
       "    </tr>\n",
       "    <tr>\n",
       "      <th>85</th>\n",
       "      <td>lewis robertson</td>\n",
       "      <td>lewis</td>\n",
       "      <td>robertson</td>\n",
       "      <td>16.0</td>\n",
       "      <td>male</td>\n",
       "      <td>2021-02-13</td>\n",
       "      <td>NaN</td>\n",
       "      <td>2021-03-31</td>\n",
       "      <td>cancelled</td>\n",
       "      <td>psychiatrist</td>\n",
       "      <td>NaN</td>\n",
       "    </tr>\n",
       "    <tr>\n",
       "      <th>86</th>\n",
       "      <td>alfie murray</td>\n",
       "      <td>alfie</td>\n",
       "      <td>murray</td>\n",
       "      <td>NaN</td>\n",
       "      <td>male</td>\n",
       "      <td>2021-02-15</td>\n",
       "      <td>twitter</td>\n",
       "      <td>2021-03-31</td>\n",
       "      <td>cancelled</td>\n",
       "      <td>social worker</td>\n",
       "      <td>NaN</td>\n",
       "    </tr>\n",
       "    <tr>\n",
       "      <th>87</th>\n",
       "      <td>sophie lard</td>\n",
       "      <td>sophie</td>\n",
       "      <td>lard</td>\n",
       "      <td>8.0</td>\n",
       "      <td>female</td>\n",
       "      <td>2021-02-08</td>\n",
       "      <td>close entourage</td>\n",
       "      <td>2021-03-04</td>\n",
       "      <td>attended</td>\n",
       "      <td>nurse</td>\n",
       "      <td>23.0</td>\n",
       "    </tr>\n",
       "    <tr>\n",
       "      <th>88</th>\n",
       "      <td>sophie lard</td>\n",
       "      <td>sophie</td>\n",
       "      <td>lard</td>\n",
       "      <td>8.0</td>\n",
       "      <td>female</td>\n",
       "      <td>2021-02-08</td>\n",
       "      <td>close entourage</td>\n",
       "      <td>2021-03-16</td>\n",
       "      <td>attended</td>\n",
       "      <td>psychiatrist</td>\n",
       "      <td>NaN</td>\n",
       "    </tr>\n",
       "    <tr>\n",
       "      <th>89</th>\n",
       "      <td>sophie lard</td>\n",
       "      <td>sophie</td>\n",
       "      <td>lard</td>\n",
       "      <td>8.0</td>\n",
       "      <td>female</td>\n",
       "      <td>2021-02-08</td>\n",
       "      <td>close entourage</td>\n",
       "      <td>2021-03-28</td>\n",
       "      <td>attended</td>\n",
       "      <td>psychiatrist</td>\n",
       "      <td>25.0</td>\n",
       "    </tr>\n",
       "  </tbody>\n",
       "</table>\n",
       "<p>90 rows × 11 columns</p>\n",
       "</div>"
      ],
      "text/plain": [
       "          full name       name    surname   age  gender   call date  \\\n",
       "0   alexander scott  alexander      scott  44.0    male  2021-02-15   \n",
       "1      alfie murray      alfie     murray   NaN    male  2021-02-15   \n",
       "2      alfie murray      alfie     murray   NaN    male  2021-02-15   \n",
       "3      alice murray      alice     murray   NaN  female  2021-02-05   \n",
       "4      alice murray      alice     murray   NaN  female  2021-02-05   \n",
       "..              ...        ...        ...   ...     ...         ...   \n",
       "85  lewis robertson      lewis  robertson  16.0    male  2021-02-13   \n",
       "86     alfie murray      alfie     murray   NaN    male  2021-02-15   \n",
       "87      sophie lard     sophie       lard   8.0  female  2021-02-08   \n",
       "88      sophie lard     sophie       lard   8.0  female  2021-02-08   \n",
       "89      sophie lard     sophie       lard   8.0  female  2021-02-08   \n",
       "\n",
       "   services awerness via appointment date     status   practitioner  phq9  \n",
       "0                    ngo       2021-03-10   attended   psychiatrist  21.0  \n",
       "1                twitter       2021-03-10   attended   psychiatrist  23.0  \n",
       "2                twitter       2021-03-22   attended  social worker  22.0  \n",
       "3               lifeline       2021-03-01   attended          nurse   NaN  \n",
       "4               lifeline       2021-03-28   attended   psychiatrist  23.0  \n",
       "..                   ...              ...        ...            ...   ...  \n",
       "85                   NaN       2021-03-31  cancelled   psychiatrist   NaN  \n",
       "86               twitter       2021-03-31  cancelled  social worker   NaN  \n",
       "87       close entourage       2021-03-04   attended          nurse  23.0  \n",
       "88       close entourage       2021-03-16   attended   psychiatrist   NaN  \n",
       "89       close entourage       2021-03-28   attended   psychiatrist  25.0  \n",
       "\n",
       "[90 rows x 11 columns]"
      ]
     },
     "execution_count": 5,
     "metadata": {},
     "output_type": "execute_result"
    }
   ],
   "source": [
    "merged_df"
   ]
  },
  {
   "cell_type": "markdown",
   "id": "34710821",
   "metadata": {},
   "source": [
    "It is important to mention that merged data contain paitents that attended once, and patient that attended multiple times, it is cautioned to rush and eliminate duplicates (in the risk of counting 2 times). However the specific question asks about minors who attented and with a psychiatrist: an example, Alfie attended 2 times: one time with a social worker and one time with a psychiatrist. It will be detrimental to have rushed and eliminated duplicates, as elicited in the example previsouly"
   ]
  },
  {
   "cell_type": "code",
   "execution_count": 6,
   "id": "21cce012",
   "metadata": {},
   "outputs": [
    {
     "data": {
      "text/plain": [
       "attended     3.3\n",
       "cancelled    1.1\n",
       "Name: status, dtype: float64"
      ]
     },
     "execution_count": 6,
     "metadata": {},
     "output_type": "execute_result"
    }
   ],
   "source": [
    "# code filtering the merged dataframe to rows of minors only and whose appointment date was in March \n",
    "# then count the attended and cancelled values, finally divide by the total number of patients to find the percentage \n",
    "\n",
    "round(merged_df[(merged_df.age <18) & (merged_df['appointment date'].dt.month == 3) & \n",
    "                (merged_df.practitioner == 'psychiatrist')].status.value_counts()/90, 3) *100"
   ]
  },
  {
   "cell_type": "markdown",
   "id": "97265283",
   "metadata": {},
   "source": [
    "Answer: 3.3 % of minors attended their appointments with psychiatrist "
   ]
  },
  {
   "cell_type": "markdown",
   "id": "8dae34f5",
   "metadata": {},
   "source": [
    "***"
   ]
  },
  {
   "cell_type": "markdown",
   "id": "2950317f",
   "metadata": {},
   "source": [
    "##### Question 2: For patients who attended more than 1 session, what was the average percentage change in phq9 scores? is there a difference in percentages variation between patients who saw 1 type of practitioner and those who did not? "
   ]
  },
  {
   "cell_type": "markdown",
   "id": "cea7e90b",
   "metadata": {},
   "source": [
    "To answer this question, previous data rearrangements were conducted on the merged_df dataframe to display only patients that have attended appointments more than once, furthermore displaying only their first and last visits and the corresponding practitioner and the date of the call, appointments."
   ]
  },
  {
   "cell_type": "markdown",
   "id": "4f49f1e4",
   "metadata": {},
   "source": [
    "###### Initial answer"
   ]
  },
  {
   "cell_type": "code",
   "execution_count": 7,
   "id": "a7b38856",
   "metadata": {},
   "outputs": [
    {
     "data": {
      "text/plain": [
       "242.9"
      ]
     },
     "execution_count": 7,
     "metadata": {},
     "output_type": "execute_result"
    }
   ],
   "source": [
    "average_perc_change = final_df['%_change'].mean()\n",
    "round(average_perc_change,2)"
   ]
  },
  {
   "cell_type": "markdown",
   "id": "ab801327",
   "metadata": {},
   "source": [
    "Inital calculation of the average, Nevertheless the percentage change variable contains in its distribution substantial outliers values that skew the average. Further exploratory analysis should be conducted"
   ]
  },
  {
   "cell_type": "code",
   "execution_count": 8,
   "id": "28b6f045",
   "metadata": {},
   "outputs": [
    {
     "data": {
      "image/png": "[encoded data removed]",
      "text/plain": [
       "<Figure size 720x360 with 1 Axes>"
      ]
     },
     "metadata": {},
     "output_type": "display_data"
    },
    {
     "data": {
      "text/plain": [
       "<Figure size 648x1080 with 0 Axes>"
      ]
     },
     "metadata": {},
     "output_type": "display_data"
    }
   ],
   "source": [
    "# categorical plot/point plot of precentages change for each patient \n",
    "sns.set_style(\"dark\")\n",
    "sns.catplot(x=\"full name\", y=\"%_change\", data=final_df, aspect= 2)\n",
    "sns.color_palette('tab20_r')\n",
    "plt.xticks(rotation=90)\n",
    "plt.ylabel(\"Percentage change in socres\", labelpad=20)\n",
    "plt.title('Percentages change for each patient between the first and last visit',pad=20)\n",
    "plt.figure(figsize=(9,15))\n",
    "plt.show();"
   ]
  },
  {
   "cell_type": "markdown",
   "id": "797765e9",
   "metadata": {},
   "source": [
    "the mean is skewed due to the presence of strong outliers in the percentage change distribution, it is highly cautioned to replace outliers with the mean (computed without outliers), this will narrow the confidence interval of the distribution, producing a more unrealistic/ideal distribution. It is possible to use the median as a measure of center.\n",
    "As observed in the percentage change point plot above, 3 outliers with high values, closer look to those values and the circumstances in which they were recorded, review of the scoring, and the initial data entry can be considered. "
   ]
  },
  {
   "cell_type": "code",
   "execution_count": 9,
   "id": "2a30dd12",
   "metadata": {},
   "outputs": [
    {
     "data": {
      "text/plain": [
       "40.835"
      ]
     },
     "execution_count": 9,
     "metadata": {},
     "output_type": "execute_result"
    }
   ],
   "source": [
    "np.median(final_df['%_change'].sort_values())"
   ]
  },
  {
   "cell_type": "markdown",
   "id": "a7a7d823",
   "metadata": {},
   "source": [
    "The median is almost 41%, can be considered the center of the percentage change distribution "
   ]
  },
  {
   "cell_type": "code",
   "execution_count": 10,
   "id": "5debd66f",
   "metadata": {},
   "outputs": [
    {
     "data": {
      "text/plain": [
       "47.52352941176471"
      ]
     },
     "execution_count": 10,
     "metadata": {},
     "output_type": "execute_result"
    }
   ],
   "source": [
    "# mean without outliers \n",
    "final_df['%_change'][final_df['%_change']< 500].mean()"
   ]
  },
  {
   "cell_type": "markdown",
   "id": "cd46482f",
   "metadata": {},
   "source": [
    "The mean of percentage change without outliers is 47%"
   ]
  },
  {
   "cell_type": "markdown",
   "id": "de54a58e",
   "metadata": {},
   "source": [
    "***"
   ]
  },
  {
   "cell_type": "markdown",
   "id": "be26e161",
   "metadata": {},
   "source": [
    "##### Separating the samples of percentage change according to practitioners similarity and difference for each patient and checking Normality (highly improbable with the sample sizes at hand and the presence of outliers soiling the distribution)"
   ]
  },
  {
   "cell_type": "code",
   "execution_count": 11,
   "id": "78fc0444",
   "metadata": {},
   "outputs": [],
   "source": [
    "same_pract_percentages = final_df[(final_df.firstVisit_practitioner == final_df.lastVisit_practitioner)]['%_change']\n",
    "\n",
    "diff_pract_precentages = final_df[(final_df.firstVisit_practitioner != final_df.lastVisit_practitioner)\n",
    "                                  & (final_df['%_change'] <2000)]['%_change']"
   ]
  },
  {
   "cell_type": "code",
   "execution_count": 12,
   "id": "230a7075",
   "metadata": {},
   "outputs": [
    {
     "data": {
      "text/plain": [
       "3        0.00\n",
       "4       37.50\n",
       "6      750.00\n",
       "12       7.14\n",
       "13    1000.00\n",
       "16     100.00\n",
       "Name: %_change, dtype: float64"
      ]
     },
     "execution_count": 12,
     "metadata": {},
     "output_type": "execute_result"
    }
   ],
   "source": [
    "same_pract_percentages"
   ]
  },
  {
   "cell_type": "code",
   "execution_count": 13,
   "id": "8852abe5",
   "metadata": {},
   "outputs": [
    {
     "data": {
      "text/plain": [
       "36.16"
      ]
     },
     "execution_count": 13,
     "metadata": {},
     "output_type": "execute_result"
    }
   ],
   "source": [
    "same_pract_percentages[same_pract_percentages<500].mean()"
   ]
  },
  {
   "cell_type": "code",
   "execution_count": 14,
   "id": "a9c8cd05",
   "metadata": {},
   "outputs": [
    {
     "data": {
      "text/plain": [
       "0       4.35\n",
       "1     157.14\n",
       "2       9.52\n",
       "5     100.00\n",
       "7      74.07\n",
       "8      83.33\n",
       "9      33.33\n",
       "10     40.00\n",
       "14     41.67\n",
       "15     35.71\n",
       "17     33.33\n",
       "18     42.11\n",
       "19      8.70\n",
       "Name: %_change, dtype: float64"
      ]
     },
     "execution_count": 14,
     "metadata": {},
     "output_type": "execute_result"
    }
   ],
   "source": [
    "diff_pract_precentages"
   ]
  },
  {
   "cell_type": "code",
   "execution_count": 15,
   "id": "2320b8aa",
   "metadata": {},
   "outputs": [
    {
     "data": {
      "text/plain": [
       "51.02000000000001"
      ]
     },
     "execution_count": 15,
     "metadata": {},
     "output_type": "execute_result"
    }
   ],
   "source": [
    "diff_pract_precentages.mean()"
   ]
  },
  {
   "cell_type": "code",
   "execution_count": 16,
   "id": "183803b5",
   "metadata": {},
   "outputs": [
    {
     "data": {
      "image/png": "[encoded data removed]",
      "text/plain": [
       "<Figure size 432x288 with 1 Axes>"
      ]
     },
     "metadata": {},
     "output_type": "display_data"
    }
   ],
   "source": [
    "# Probability plot to visualize asses the normality of a distribution \n",
    "stats.probplot(same_pract_percentages, dist=\"norm\", fit=True, plot=plt)\n",
    "plt.xlabel(\"Theoretical quantiles\", labelpad=15)\n",
    "plt.title(\"Probability Plot to compare patient's % scores seen same practitioner to  a Perfectly Normal Distribution\")\n",
    "plt.show()"
   ]
  },
  {
   "cell_type": "code",
   "execution_count": 17,
   "id": "85ea3e16",
   "metadata": {},
   "outputs": [
    {
     "data": {
      "image/png": "[encoded data removed]",
      "text/plain": [
       "<Figure size 432x288 with 1 Axes>"
      ]
     },
     "metadata": {},
     "output_type": "display_data"
    }
   ],
   "source": [
    "stats.probplot(diff_pract_precentages, dist=\"norm\", fit=True, plot=plt)\n",
    "plt.xlabel(\"Theoretical quantiles\", labelpad=15)\n",
    "plt.title(\"Probability Plot to compare patient's % scores seen different practitioner to  a Perfectly Normal Distribution\")\n",
    "plt.show()"
   ]
  },
  {
   "cell_type": "markdown",
   "id": "69421179",
   "metadata": {},
   "source": [
    "It is obvious and more ascretained that small samples infected with outliers, are far from normally distributed. For that matter running a t-test to examine the sample means similarity or difference is risky and faulty under those circumstances, with heterogeneity of variances between samples and non normality. The situation is better suited to conduct bootstraping techniques on samples and generate a mean sampling distribution that will be the closest to the real mean (each sample's population mean). "
   ]
  },
  {
   "cell_type": "markdown",
   "id": "c0bd8aca",
   "metadata": {},
   "source": [
    "***"
   ]
  },
  {
   "cell_type": "markdown",
   "id": "c0f71534",
   "metadata": {},
   "source": [
    "It was considered that high value percentage change above 500 will be removed, to minimize their infulence on sample statistics, taking in consideration also the small samples that severly violate every condition to be able to conduct inferential statitics"
   ]
  },
  {
   "cell_type": "code",
   "execution_count": 18,
   "id": "b6a62d05",
   "metadata": {
    "scrolled": true
   },
   "outputs": [
    {
     "data": {
      "text/html": [
       "<div>\n",
       "<style scoped>\n",
       "    .dataframe tbody tr th:only-of-type {\n",
       "        vertical-align: middle;\n",
       "    }\n",
       "\n",
       "    .dataframe tbody tr th {\n",
       "        vertical-align: top;\n",
       "    }\n",
       "\n",
       "    .dataframe thead th {\n",
       "        text-align: right;\n",
       "    }\n",
       "</style>\n",
       "<table border=\"1\" class=\"dataframe\">\n",
       "  <thead>\n",
       "    <tr style=\"text-align: right;\">\n",
       "      <th></th>\n",
       "      <th>full name</th>\n",
       "      <th>age</th>\n",
       "      <th>gender</th>\n",
       "      <th>call date</th>\n",
       "      <th>services awerness via</th>\n",
       "      <th>first_appointment_date</th>\n",
       "      <th>firstVisit_practitioner</th>\n",
       "      <th>first_score</th>\n",
       "      <th>last_appointment_date</th>\n",
       "      <th>lastVisit_practitioner</th>\n",
       "      <th>last_score</th>\n",
       "      <th>%_change</th>\n",
       "    </tr>\n",
       "  </thead>\n",
       "  <tbody>\n",
       "    <tr>\n",
       "      <th>0</th>\n",
       "      <td>alfie murray</td>\n",
       "      <td>NaN</td>\n",
       "      <td>male</td>\n",
       "      <td>2021-02-15</td>\n",
       "      <td>twitter</td>\n",
       "      <td>2021-03-10</td>\n",
       "      <td>psychiatrist</td>\n",
       "      <td>23.0</td>\n",
       "      <td>2021-03-22</td>\n",
       "      <td>social worker</td>\n",
       "      <td>22.0</td>\n",
       "      <td>4.35</td>\n",
       "    </tr>\n",
       "    <tr>\n",
       "      <th>1</th>\n",
       "      <td>archie johnstone</td>\n",
       "      <td>35.0</td>\n",
       "      <td>male</td>\n",
       "      <td>2021-02-25</td>\n",
       "      <td>radio</td>\n",
       "      <td>2021-03-13</td>\n",
       "      <td>psychiatrist</td>\n",
       "      <td>7.0</td>\n",
       "      <td>2021-03-28</td>\n",
       "      <td>psychologist</td>\n",
       "      <td>18.0</td>\n",
       "      <td>157.14</td>\n",
       "    </tr>\n",
       "    <tr>\n",
       "      <th>2</th>\n",
       "      <td>damon hart</td>\n",
       "      <td>76.0</td>\n",
       "      <td>male</td>\n",
       "      <td>2021-02-07</td>\n",
       "      <td>ngo</td>\n",
       "      <td>2021-03-07</td>\n",
       "      <td>social worker</td>\n",
       "      <td>21.0</td>\n",
       "      <td>2021-03-28</td>\n",
       "      <td>nurse</td>\n",
       "      <td>19.0</td>\n",
       "      <td>9.52</td>\n",
       "    </tr>\n",
       "    <tr>\n",
       "      <th>3</th>\n",
       "      <td>gavin wolff</td>\n",
       "      <td>8.0</td>\n",
       "      <td>male</td>\n",
       "      <td>2021-02-06</td>\n",
       "      <td>ngo</td>\n",
       "      <td>2021-03-01</td>\n",
       "      <td>psychologist</td>\n",
       "      <td>23.0</td>\n",
       "      <td>2021-03-31</td>\n",
       "      <td>psychologist</td>\n",
       "      <td>23.0</td>\n",
       "      <td>0.00</td>\n",
       "    </tr>\n",
       "    <tr>\n",
       "      <th>4</th>\n",
       "      <td>harris thomson</td>\n",
       "      <td>82.0</td>\n",
       "      <td>male</td>\n",
       "      <td>2021-02-13</td>\n",
       "      <td>lifeline</td>\n",
       "      <td>2021-03-09</td>\n",
       "      <td>nurse</td>\n",
       "      <td>16.0</td>\n",
       "      <td>2021-03-23</td>\n",
       "      <td>nurse</td>\n",
       "      <td>10.0</td>\n",
       "      <td>37.50</td>\n",
       "    </tr>\n",
       "    <tr>\n",
       "      <th>5</th>\n",
       "      <td>isabelle wells</td>\n",
       "      <td>25.0</td>\n",
       "      <td>female</td>\n",
       "      <td>2021-02-13</td>\n",
       "      <td>twitter</td>\n",
       "      <td>2021-03-03</td>\n",
       "      <td>psychologist</td>\n",
       "      <td>11.0</td>\n",
       "      <td>2021-03-30</td>\n",
       "      <td>psychiatrist</td>\n",
       "      <td>0.0</td>\n",
       "      <td>100.00</td>\n",
       "    </tr>\n",
       "    <tr>\n",
       "      <th>7</th>\n",
       "      <td>james black</td>\n",
       "      <td>37.0</td>\n",
       "      <td>male</td>\n",
       "      <td>2021-02-06</td>\n",
       "      <td>close entourage</td>\n",
       "      <td>2021-03-02</td>\n",
       "      <td>social worker</td>\n",
       "      <td>27.0</td>\n",
       "      <td>2021-03-04</td>\n",
       "      <td>psychologist</td>\n",
       "      <td>7.0</td>\n",
       "      <td>74.07</td>\n",
       "    </tr>\n",
       "    <tr>\n",
       "      <th>8</th>\n",
       "      <td>james stewart</td>\n",
       "      <td>41.0</td>\n",
       "      <td>male</td>\n",
       "      <td>2021-02-13</td>\n",
       "      <td>television</td>\n",
       "      <td>2021-03-08</td>\n",
       "      <td>psychiatrist</td>\n",
       "      <td>24.0</td>\n",
       "      <td>2021-03-31</td>\n",
       "      <td>psychologist</td>\n",
       "      <td>4.0</td>\n",
       "      <td>83.33</td>\n",
       "    </tr>\n",
       "    <tr>\n",
       "      <th>9</th>\n",
       "      <td>jeffrey lard</td>\n",
       "      <td>45.0</td>\n",
       "      <td>male</td>\n",
       "      <td>2021-02-07</td>\n",
       "      <td>close entourage</td>\n",
       "      <td>2021-03-04</td>\n",
       "      <td>social worker</td>\n",
       "      <td>27.0</td>\n",
       "      <td>2021-03-15</td>\n",
       "      <td>psychiatrist</td>\n",
       "      <td>18.0</td>\n",
       "      <td>33.33</td>\n",
       "    </tr>\n",
       "    <tr>\n",
       "      <th>10</th>\n",
       "      <td>jennifer runt</td>\n",
       "      <td>41.0</td>\n",
       "      <td>female</td>\n",
       "      <td>2021-02-08</td>\n",
       "      <td>instagram</td>\n",
       "      <td>2021-03-29</td>\n",
       "      <td>psychiatrist</td>\n",
       "      <td>15.0</td>\n",
       "      <td>2021-03-31</td>\n",
       "      <td>psychologist</td>\n",
       "      <td>21.0</td>\n",
       "      <td>40.00</td>\n",
       "    </tr>\n",
       "    <tr>\n",
       "      <th>12</th>\n",
       "      <td>leo anderson</td>\n",
       "      <td>38.0</td>\n",
       "      <td>male</td>\n",
       "      <td>2021-02-14</td>\n",
       "      <td>television</td>\n",
       "      <td>2021-03-10</td>\n",
       "      <td>psychologist</td>\n",
       "      <td>14.0</td>\n",
       "      <td>2021-03-28</td>\n",
       "      <td>psychologist</td>\n",
       "      <td>13.0</td>\n",
       "      <td>7.14</td>\n",
       "    </tr>\n",
       "    <tr>\n",
       "      <th>14</th>\n",
       "      <td>lorna cormack</td>\n",
       "      <td>31.0</td>\n",
       "      <td>female</td>\n",
       "      <td>2021-02-12</td>\n",
       "      <td>lifeline</td>\n",
       "      <td>2021-03-03</td>\n",
       "      <td>psychologist</td>\n",
       "      <td>24.0</td>\n",
       "      <td>2021-03-24</td>\n",
       "      <td>psychiatrist</td>\n",
       "      <td>14.0</td>\n",
       "      <td>41.67</td>\n",
       "    </tr>\n",
       "    <tr>\n",
       "      <th>15</th>\n",
       "      <td>michael black</td>\n",
       "      <td>97.0</td>\n",
       "      <td>male</td>\n",
       "      <td>2021-02-08</td>\n",
       "      <td>close entourage</td>\n",
       "      <td>2021-03-16</td>\n",
       "      <td>psychologist</td>\n",
       "      <td>14.0</td>\n",
       "      <td>2021-03-31</td>\n",
       "      <td>social worker</td>\n",
       "      <td>19.0</td>\n",
       "      <td>35.71</td>\n",
       "    </tr>\n",
       "    <tr>\n",
       "      <th>16</th>\n",
       "      <td>mike good</td>\n",
       "      <td>38.0</td>\n",
       "      <td>male</td>\n",
       "      <td>2021-02-06</td>\n",
       "      <td>lifeline</td>\n",
       "      <td>2021-03-04</td>\n",
       "      <td>psychiatrist</td>\n",
       "      <td>19.0</td>\n",
       "      <td>2021-03-24</td>\n",
       "      <td>psychiatrist</td>\n",
       "      <td>0.0</td>\n",
       "      <td>100.00</td>\n",
       "    </tr>\n",
       "    <tr>\n",
       "      <th>17</th>\n",
       "      <td>oliver gage</td>\n",
       "      <td>57.0</td>\n",
       "      <td>male</td>\n",
       "      <td>2021-02-08</td>\n",
       "      <td>facebook</td>\n",
       "      <td>2021-03-03</td>\n",
       "      <td>nurse</td>\n",
       "      <td>6.0</td>\n",
       "      <td>2021-03-29</td>\n",
       "      <td>psychologist</td>\n",
       "      <td>8.0</td>\n",
       "      <td>33.33</td>\n",
       "    </tr>\n",
       "    <tr>\n",
       "      <th>18</th>\n",
       "      <td>rachel warwick</td>\n",
       "      <td>37.0</td>\n",
       "      <td>female</td>\n",
       "      <td>2021-02-08</td>\n",
       "      <td>television</td>\n",
       "      <td>2021-03-02</td>\n",
       "      <td>psychologist</td>\n",
       "      <td>19.0</td>\n",
       "      <td>2021-03-29</td>\n",
       "      <td>social worker</td>\n",
       "      <td>27.0</td>\n",
       "      <td>42.11</td>\n",
       "    </tr>\n",
       "    <tr>\n",
       "      <th>19</th>\n",
       "      <td>sophie lard</td>\n",
       "      <td>8.0</td>\n",
       "      <td>female</td>\n",
       "      <td>2021-02-08</td>\n",
       "      <td>close entourage</td>\n",
       "      <td>2021-03-04</td>\n",
       "      <td>nurse</td>\n",
       "      <td>23.0</td>\n",
       "      <td>2021-03-28</td>\n",
       "      <td>psychiatrist</td>\n",
       "      <td>25.0</td>\n",
       "      <td>8.70</td>\n",
       "    </tr>\n",
       "  </tbody>\n",
       "</table>\n",
       "</div>"
      ],
      "text/plain": [
       "           full name   age  gender  call date services awerness via  \\\n",
       "0       alfie murray   NaN    male 2021-02-15               twitter   \n",
       "1   archie johnstone  35.0    male 2021-02-25                 radio   \n",
       "2         damon hart  76.0    male 2021-02-07                   ngo   \n",
       "3        gavin wolff   8.0    male 2021-02-06                   ngo   \n",
       "4     harris thomson  82.0    male 2021-02-13              lifeline   \n",
       "5     isabelle wells  25.0  female 2021-02-13               twitter   \n",
       "7        james black  37.0    male 2021-02-06       close entourage   \n",
       "8      james stewart  41.0    male 2021-02-13            television   \n",
       "9       jeffrey lard  45.0    male 2021-02-07       close entourage   \n",
       "10     jennifer runt  41.0  female 2021-02-08             instagram   \n",
       "12      leo anderson  38.0    male 2021-02-14            television   \n",
       "14     lorna cormack  31.0  female 2021-02-12              lifeline   \n",
       "15     michael black  97.0    male 2021-02-08       close entourage   \n",
       "16         mike good  38.0    male 2021-02-06              lifeline   \n",
       "17       oliver gage  57.0    male 2021-02-08              facebook   \n",
       "18    rachel warwick  37.0  female 2021-02-08            television   \n",
       "19       sophie lard   8.0  female 2021-02-08       close entourage   \n",
       "\n",
       "   first_appointment_date firstVisit_practitioner  first_score  \\\n",
       "0              2021-03-10            psychiatrist         23.0   \n",
       "1              2021-03-13            psychiatrist          7.0   \n",
       "2              2021-03-07           social worker         21.0   \n",
       "3              2021-03-01            psychologist         23.0   \n",
       "4              2021-03-09                   nurse         16.0   \n",
       "5              2021-03-03            psychologist         11.0   \n",
       "7              2021-03-02           social worker         27.0   \n",
       "8              2021-03-08            psychiatrist         24.0   \n",
       "9              2021-03-04           social worker         27.0   \n",
       "10             2021-03-29            psychiatrist         15.0   \n",
       "12             2021-03-10            psychologist         14.0   \n",
       "14             2021-03-03            psychologist         24.0   \n",
       "15             2021-03-16            psychologist         14.0   \n",
       "16             2021-03-04            psychiatrist         19.0   \n",
       "17             2021-03-03                   nurse          6.0   \n",
       "18             2021-03-02            psychologist         19.0   \n",
       "19             2021-03-04                   nurse         23.0   \n",
       "\n",
       "   last_appointment_date lastVisit_practitioner  last_score  %_change  \n",
       "0             2021-03-22          social worker        22.0      4.35  \n",
       "1             2021-03-28           psychologist        18.0    157.14  \n",
       "2             2021-03-28                  nurse        19.0      9.52  \n",
       "3             2021-03-31           psychologist        23.0      0.00  \n",
       "4             2021-03-23                  nurse        10.0     37.50  \n",
       "5             2021-03-30           psychiatrist         0.0    100.00  \n",
       "7             2021-03-04           psychologist         7.0     74.07  \n",
       "8             2021-03-31           psychologist         4.0     83.33  \n",
       "9             2021-03-15           psychiatrist        18.0     33.33  \n",
       "10            2021-03-31           psychologist        21.0     40.00  \n",
       "12            2021-03-28           psychologist        13.0      7.14  \n",
       "14            2021-03-24           psychiatrist        14.0     41.67  \n",
       "15            2021-03-31          social worker        19.0     35.71  \n",
       "16            2021-03-24           psychiatrist         0.0    100.00  \n",
       "17            2021-03-29           psychologist         8.0     33.33  \n",
       "18            2021-03-29          social worker        27.0     42.11  \n",
       "19            2021-03-28           psychiatrist        25.0      8.70  "
      ]
     },
     "execution_count": 18,
     "metadata": {},
     "output_type": "execute_result"
    }
   ],
   "source": [
    "final_df =final_df[final_df['%_change'] <500]\n",
    "final_df"
   ]
  },
  {
   "cell_type": "markdown",
   "id": "97c81ea9",
   "metadata": {},
   "source": [
    "***"
   ]
  },
  {
   "cell_type": "markdown",
   "id": "8b3ea11b",
   "metadata": {},
   "source": [
    "Overcomming the issues facing the samples (small size, heteroscedacity, normality violation). the conditions are best suited to perform a bootstraping on samples: perform a sampling distribution on the mean statistic\n",
    "(i.e. sample with replacement from each sample, and record the mean of that sample: around 10000 iterations)"
   ]
  },
  {
   "cell_type": "markdown",
   "id": "20c95194",
   "metadata": {},
   "source": [
    "##### Bootstraping and Sampling Distribution "
   ]
  },
  {
   "cell_type": "code",
   "execution_count": 22,
   "id": "a2406571",
   "metadata": {},
   "outputs": [
    {
     "name": "stdout",
     "output_type": "stream",
     "text": [
      "Would you like to perform a conditioned sampling distribution on practictioner type-y- or full sampling distribution?-n- y\n",
      "please enter (same) or (different) to filter according to practitioner type assigned to patient? same\n"
     ]
    },
    {
     "data": {
      "image/png": "[encoded data removed]",
      "text/plain": [
       "<Figure size 648x504 with 1 Axes>"
      ]
     },
     "metadata": {},
     "output_type": "display_data"
    },
    {
     "name": "stdout",
     "output_type": "stream",
     "text": [
      "It is with 95% confidence that the mean of percentages change for a sample of same practitioners: 36.08 is between 35.7 and 36.47\n"
     ]
    }
   ],
   "source": [
    "\"\"\" Class with data attribute: dataframe, column in question: percentage change\"\"\"\n",
    "\n",
    "class SamplingDistribution:\n",
    "    \n",
    "    def __init__(self, df, col):\n",
    "        self.dataframe = df\n",
    "        self.colname = col\n",
    "\n",
    "\n",
    "\n",
    "\n",
    "\"\"\" predefined function that will take as an argument the class object\"\"\"\n",
    "        \n",
    "def bootstrap(obj):\n",
    "    \n",
    "    \"\"\" first condition that promtp the user to a y or n answer for the sampling distribution\"\"\"\n",
    "    condition1= True\n",
    "    while condition1:\n",
    "        try:\n",
    "            a= input('Would you like to perform a conditioned sampling distribution on practictioner type-y- or full sampling distribution?-n- ')\n",
    "                \n",
    "            if a.lower().strip() not in ['y', 'n']:\n",
    "                raise ValueError\n",
    "                    \n",
    "        except(TypeError, ValueError):\n",
    "            print('Oops! Error, kindly enter y or n to filter according to practioner type i.e. same or diff')\n",
    "            continue\n",
    "            \n",
    "        condition1= False\n",
    "            \n",
    "    \"\"\" if n is chosen a full sampling distribution will conducted by bootstraping from the sample and \n",
    "    collecting each sample mean into a list and will return that list and the initial condition chosen 'n'\n",
    "    in a tupe\"\"\"\n",
    "    \n",
    "    if a == 'n':\n",
    "        np.random.seed(123)\n",
    "        sample_means =[]\n",
    "        for i in range(0,10001):\n",
    "            sample_n = resample(obj.dataframe[obj.colname], n_samples= len(obj.dataframe))\n",
    "            sample_means.append(sample_n.mean())\n",
    "            \n",
    "        return sample_means, a\n",
    "        \n",
    "    \"\"\" if y is chosen the user will be promted again on which sample to chose: same practitioner or different\"\"\"\n",
    "    \n",
    "    if a == 'y':\n",
    "        condition2 = True\n",
    "        while condition2:\n",
    "            try:\n",
    "                b = input(\"please enter (same) or (different) to filter according to practitioner type assigned to patient? \")\n",
    "                    \n",
    "                if b.lower() not in ['same', 'different']:\n",
    "                    raise ValueError                    \n",
    "            \n",
    "            except(TypeError, ValueError):\n",
    "                print('Oops! Error, Enter (same) or (different) to filter or not according to practioner type ')\n",
    "                continue \n",
    "                    \n",
    "            condition2= False\n",
    "                \n",
    "            \"\"\" if 'same' is chosen a filtering condition is assigned to filter accordginly percentage changes \n",
    "            and conduct the sampling and collect the sample means into a list and return that list.\n",
    "            the similar function is used for 'different' but another filtering condition is createdm both algorithms\n",
    "            return the sample means list and the condition it was created with: 'same' or 'different' \"\"\"\n",
    "            \n",
    "            if b =='same':\n",
    "                np.random.seed(123)\n",
    "                sample_means =[]\n",
    "                filter_condition = obj.dataframe.firstVisit_practitioner == obj.dataframe.lastVisit_practitioner\n",
    "                    \n",
    "                for i in range(0,10001):\n",
    "                    sample_n = resample(obj.dataframe[obj.colname][filter_condition], \n",
    "                                        n_samples= len(obj.dataframe[filter_condition]))\n",
    "                        \n",
    "                    sample_means.append(sample_n.mean())\n",
    "                    \n",
    "                return sample_means, b\n",
    "                \n",
    "\n",
    "            if b =='different':\n",
    "                np.random.seed(123)\n",
    "                sample_means =[]\n",
    "                filter_condition = obj.dataframe.firstVisit_practitioner != obj.dataframe.lastVisit_practitioner\n",
    "                    \n",
    "                for i in range(0,10001):\n",
    "                    sample_n = resample(obj.dataframe[obj.colname][filter_condition], \n",
    "                                        n_samples= len(obj.dataframe[filter_condition]))\n",
    "                        \n",
    "                    sample_means.append(sample_n.mean())\n",
    "                    \n",
    "                return sample_means, b\n",
    "                    \n",
    "\n",
    "\n",
    "def Confidence_Intervals(x):\n",
    "    \n",
    "    \"\"\" confidence interval function that will take as an argument the return value-means sample list from the\n",
    "    bootstrap function and the condition that list was created with \n",
    "    and return the confidence interval of the means with a 95% level of confidence\n",
    "    along with the mean and std deviation of that sample mean\"\"\"\n",
    "    \n",
    "    mean, sigma = np.mean(x[0]), np.std(x[0],ddof=1)\n",
    "    conf_int_= stats.norm.interval(0.95, loc=mean, scale=sigma/np.sqrt(len(x[0])))\n",
    "    if x[1] == 'n':\n",
    "        return f\"It is with 95% confidence that the mean of percentages change: {round(mean,2)} is between {round(conf_int_[0],2)} and {round(conf_int_[1],2)}\", mean, sigma\n",
    "\n",
    "    \n",
    "    if x[1] == 'same':\n",
    "        return f\"It is with 95% confidence that the mean of percentages change for a sample of same practitioners: {round(mean,2)} is between {round(conf_int_[0],2)} and {round(conf_int_[1],2)}\", mean, sigma\n",
    "\n",
    "    \n",
    "    if x[1] == 'different':\n",
    "        return f\"It is with 95% confidence that the mean of percentages change for a sample of different practitioners:: {round(mean,2)} is between {round(conf_int_[0],2)} and {round(conf_int_[1],2)}\", mean, sigma\n",
    "\n",
    "    \n",
    "\n",
    "def Visualize_Distribution(z,y):\n",
    "    \n",
    "    \"\"\" this function takes as argument the return values of its predecessor functions:\n",
    "    bootstrap and confidence interval, their tuples return values are injected in the function Visualize_distribution\n",
    "    and will plot the distribution plot of the distribution of means and its mean\n",
    "\"\"\"\n",
    "    \n",
    "    if z[1] == 'n':\n",
    "        plt.figure(figsize=(9,7))\n",
    "        _ = sns.histplot(data=z[0])\n",
    "        plt.title(\"Percentage change sampling distribution\", pad=20)\n",
    "        plt.ylabel('Percentages change sample means',labelpad=20)\n",
    "        plt.vlines(x=[round(y[1],2)], ymin=0, ymax=500, \n",
    "                   colors='purple', ls='--', lw=2, label='sampling distribution mean')\n",
    "        # place legend outside\n",
    "        plt.legend(bbox_to_anchor=(1.0, 1), loc='upper left')\n",
    "        plt.show();\n",
    "        \n",
    "    if z[1] == 'same':\n",
    "        plt.figure(figsize=(9,7))\n",
    "        _ = sns.histplot(data=z[0])\n",
    "        plt.title(\"Percentage change sampling distribution of patient with same type of practitioner\", pad=20)\n",
    "        plt.ylabel('Percentages change sample means',labelpad=20)\n",
    "        plt.vlines(x=[round(y[1],2)], ymin=0, ymax=500, \n",
    "                   colors='purple', ls='--', lw=2, label='sampling distribution mean')\n",
    "        # place legend outside\n",
    "        plt.legend(bbox_to_anchor=(1.0, 1), loc='upper left')\n",
    "        plt.show();\n",
    "        \n",
    "    if z[1] == 'different':\n",
    "        plt.figure(figsize=(9,7))\n",
    "        _ = sns.histplot(data=z[0])\n",
    "        plt.title(\"Percentage change sampling distribution of patient with different type of practitioner\", pad=20)\n",
    "        plt.ylabel('Percentages change sample means',labelpad=20)\n",
    "        plt.vlines(x=[round(y[1],2)], ymin=0, ymax=500, \n",
    "                   colors='purple', ls='--', lw=2, label='sampling distribution mean')\n",
    "        # place legend outside\n",
    "        plt.legend(bbox_to_anchor=(1.0, 1), loc='upper left')\n",
    "        plt.show();\n",
    "\n",
    "        \n",
    "        \n",
    "\n",
    "def main():\n",
    "    smpl = SamplingDistribution(final_df, '%_change')\n",
    "    boot = bootstrap(smpl)\n",
    "    conf = Confidence_Intervals(boot)\n",
    "    Visualize_Distribution(boot, conf)\n",
    "    print(conf[0])\n",
    "    \n",
    "if __name__ == \"__main__\":\n",
    "    \n",
    "    main()"
   ]
  },
  {
   "cell_type": "markdown",
   "id": "7c1b0555",
   "metadata": {},
   "source": [
    "It is clear that the sampling distribution's means of the same and different practitioner samples are quite different, their confidence intervals do not overlap which leads to the definition, that the difference between means of patient that saw the same practitioners and those who did not, is statistically significant. "
   ]
  },
  {
   "cell_type": "markdown",
   "id": "cfcf4b95",
   "metadata": {},
   "source": [
    "***"
   ]
  },
  {
   "cell_type": "markdown",
   "id": "a59f2bdb",
   "metadata": {},
   "source": [
    "##### Question 3: Among those patients who attended more than one session in March, compute the proportion of males to females "
   ]
  },
  {
   "cell_type": "markdown",
   "id": "369ecf38",
   "metadata": {},
   "source": [
    "To answer this question: final_df is the suitable created dataframe of patients that attended more than one appointment."
   ]
  },
  {
   "cell_type": "code",
   "execution_count": 20,
   "id": "cf02cc17",
   "metadata": {},
   "outputs": [],
   "source": [
    "# reading again final_df (because previously we had eliminated percentage change outliers-value above 500)\n",
    "# changing the date columns type to the correct datetime type \n",
    "final_df = pd.read_csv('finaldf.csv')\n",
    "final_df['call date']= pd.to_datetime(final_df['call date'])\n",
    "final_df['first_appointment_date']= pd.to_datetime(final_df['first_appointment_date'])\n",
    "final_df['last_appointment_date']= pd.to_datetime(final_df['last_appointment_date'])"
   ]
  },
  {
   "cell_type": "code",
   "execution_count": 21,
   "id": "4a14e957",
   "metadata": {},
   "outputs": [
    {
     "data": {
      "text/html": [
       "<div>\n",
       "<style scoped>\n",
       "    .dataframe tbody tr th:only-of-type {\n",
       "        vertical-align: middle;\n",
       "    }\n",
       "\n",
       "    .dataframe tbody tr th {\n",
       "        vertical-align: top;\n",
       "    }\n",
       "\n",
       "    .dataframe thead th {\n",
       "        text-align: right;\n",
       "    }\n",
       "</style>\n",
       "<table border=\"1\" class=\"dataframe\">\n",
       "  <thead>\n",
       "    <tr style=\"text-align: right;\">\n",
       "      <th></th>\n",
       "      <th>full name</th>\n",
       "      <th>age</th>\n",
       "      <th>gender</th>\n",
       "      <th>call date</th>\n",
       "      <th>services awerness via</th>\n",
       "      <th>first_appointment_date</th>\n",
       "      <th>firstVisit_practitioner</th>\n",
       "      <th>first_score</th>\n",
       "      <th>last_appointment_date</th>\n",
       "      <th>lastVisit_practitioner</th>\n",
       "      <th>last_score</th>\n",
       "      <th>%_change</th>\n",
       "    </tr>\n",
       "  </thead>\n",
       "  <tbody>\n",
       "    <tr>\n",
       "      <th>0</th>\n",
       "      <td>alfie murray</td>\n",
       "      <td>NaN</td>\n",
       "      <td>male</td>\n",
       "      <td>2021-02-15</td>\n",
       "      <td>twitter</td>\n",
       "      <td>2021-03-10</td>\n",
       "      <td>psychiatrist</td>\n",
       "      <td>23.0</td>\n",
       "      <td>2021-03-22</td>\n",
       "      <td>social worker</td>\n",
       "      <td>22.0</td>\n",
       "      <td>4.35</td>\n",
       "    </tr>\n",
       "    <tr>\n",
       "      <th>1</th>\n",
       "      <td>archie johnstone</td>\n",
       "      <td>35.0</td>\n",
       "      <td>male</td>\n",
       "      <td>2021-02-25</td>\n",
       "      <td>radio</td>\n",
       "      <td>2021-03-13</td>\n",
       "      <td>psychiatrist</td>\n",
       "      <td>7.0</td>\n",
       "      <td>2021-03-28</td>\n",
       "      <td>psychologist</td>\n",
       "      <td>18.0</td>\n",
       "      <td>157.14</td>\n",
       "    </tr>\n",
       "    <tr>\n",
       "      <th>2</th>\n",
       "      <td>damon hart</td>\n",
       "      <td>76.0</td>\n",
       "      <td>male</td>\n",
       "      <td>2021-02-07</td>\n",
       "      <td>ngo</td>\n",
       "      <td>2021-03-07</td>\n",
       "      <td>social worker</td>\n",
       "      <td>21.0</td>\n",
       "      <td>2021-03-28</td>\n",
       "      <td>nurse</td>\n",
       "      <td>19.0</td>\n",
       "      <td>9.52</td>\n",
       "    </tr>\n",
       "    <tr>\n",
       "      <th>3</th>\n",
       "      <td>gavin wolff</td>\n",
       "      <td>8.0</td>\n",
       "      <td>male</td>\n",
       "      <td>2021-02-06</td>\n",
       "      <td>ngo</td>\n",
       "      <td>2021-03-01</td>\n",
       "      <td>psychologist</td>\n",
       "      <td>23.0</td>\n",
       "      <td>2021-03-31</td>\n",
       "      <td>psychologist</td>\n",
       "      <td>23.0</td>\n",
       "      <td>0.00</td>\n",
       "    </tr>\n",
       "    <tr>\n",
       "      <th>4</th>\n",
       "      <td>harris thomson</td>\n",
       "      <td>82.0</td>\n",
       "      <td>male</td>\n",
       "      <td>2021-02-13</td>\n",
       "      <td>lifeline</td>\n",
       "      <td>2021-03-09</td>\n",
       "      <td>nurse</td>\n",
       "      <td>16.0</td>\n",
       "      <td>2021-03-23</td>\n",
       "      <td>nurse</td>\n",
       "      <td>10.0</td>\n",
       "      <td>37.50</td>\n",
       "    </tr>\n",
       "  </tbody>\n",
       "</table>\n",
       "</div>"
      ],
      "text/plain": [
       "          full name   age gender  call date services awerness via  \\\n",
       "0      alfie murray   NaN   male 2021-02-15               twitter   \n",
       "1  archie johnstone  35.0   male 2021-02-25                 radio   \n",
       "2        damon hart  76.0   male 2021-02-07                   ngo   \n",
       "3       gavin wolff   8.0   male 2021-02-06                   ngo   \n",
       "4    harris thomson  82.0   male 2021-02-13              lifeline   \n",
       "\n",
       "  first_appointment_date firstVisit_practitioner  first_score  \\\n",
       "0             2021-03-10            psychiatrist         23.0   \n",
       "1             2021-03-13            psychiatrist          7.0   \n",
       "2             2021-03-07           social worker         21.0   \n",
       "3             2021-03-01            psychologist         23.0   \n",
       "4             2021-03-09                   nurse         16.0   \n",
       "\n",
       "  last_appointment_date lastVisit_practitioner  last_score  %_change  \n",
       "0            2021-03-22          social worker        22.0      4.35  \n",
       "1            2021-03-28           psychologist        18.0    157.14  \n",
       "2            2021-03-28                  nurse        19.0      9.52  \n",
       "3            2021-03-31           psychologist        23.0      0.00  \n",
       "4            2021-03-23                  nurse        10.0     37.50  "
      ]
     },
     "execution_count": 21,
     "metadata": {},
     "output_type": "execute_result"
    }
   ],
   "source": [
    "final_df.head()"
   ]
  },
  {
   "cell_type": "code",
   "execution_count": 22,
   "id": "2ebf60f0",
   "metadata": {},
   "outputs": [
    {
     "data": {
      "text/plain": [
       "male      15\n",
       "female     5\n",
       "Name: gender, dtype: int64"
      ]
     },
     "execution_count": 22,
     "metadata": {},
     "output_type": "execute_result"
    }
   ],
   "source": [
    "final_df.gender.value_counts()"
   ]
  },
  {
   "cell_type": "markdown",
   "id": "5b9ce4af",
   "metadata": {},
   "source": [
    "###### with the regards to the question formulation (males to females): it is understood that a ratio computation is required, Nevertheless, both ratio and proportions will be computed"
   ]
  },
  {
   "cell_type": "markdown",
   "id": "8faa106d",
   "metadata": {},
   "source": [
    "Ratio of males to females in the distribution"
   ]
  },
  {
   "cell_type": "markdown",
   "id": "850a6b57",
   "metadata": {},
   "source": [
    "the answer is 3:1. meaning for every 3 males there is 1 female "
   ]
  },
  {
   "cell_type": "markdown",
   "id": "ad1fea42",
   "metadata": {},
   "source": [
    "***"
   ]
  },
  {
   "cell_type": "markdown",
   "id": "f9a57add",
   "metadata": {},
   "source": [
    "proportion of males and  proportion of females in the distribution "
   ]
  },
  {
   "cell_type": "markdown",
   "id": "3e256f3e",
   "metadata": {},
   "source": [
    "males ->  15:20 -> 3:4, thus 3 in every 4 patients who attended more than once appointments are males "
   ]
  },
  {
   "cell_type": "markdown",
   "id": "f8a2d2ae",
   "metadata": {},
   "source": [
    "females -> 5:20 -> 1:4, thus 1 in every 4 patients who attended more than once appointments are females  "
   ]
  }
 ],
 "metadata": {
  "kernelspec": {
   "display_name": "Python 3",
   "language": "python",
   "name": "python3"
  },
  "language_info": {
   "codemirror_mode": {
    "name": "ipython",
    "version": 3
   },
   "file_extension": ".py",
   "mimetype": "text/x-python",
   "name": "python",
   "nbconvert_exporter": "python",
   "pygments_lexer": "ipython3",
   "version": "3.6.13"
  }
 },
 "nbformat": 4,
 "nbformat_minor": 5
}
